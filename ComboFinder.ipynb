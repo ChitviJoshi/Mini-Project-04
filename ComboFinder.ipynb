{
  "nbformat": 4,
  "nbformat_minor": 0,
  "metadata": {
    "colab": {
      "provenance": [],
      "authorship_tag": "ABX9TyOsXswLQTigyLnD6sRZqJhy",
      "include_colab_link": true
    },
    "kernelspec": {
      "name": "python3",
      "display_name": "Python 3"
    },
    "language_info": {
      "name": "python"
    }
  },
  "cells": [
    {
      "cell_type": "markdown",
      "metadata": {
        "id": "view-in-github",
        "colab_type": "text"
      },
      "source": [
        "<a href=\"https://colab.research.google.com/github/ChitviJoshi/Mini-Project-04/blob/main/ComboFinder.ipynb\" target=\"_parent\"><img src=\"https://colab.research.google.com/assets/colab-badge.svg\" alt=\"Open In Colab\"/></a>"
      ]
    },
    {
      "cell_type": "code",
      "execution_count": null,
      "metadata": {
        "id": "E7AXyJIGTnf5"
      },
      "outputs": [],
      "source": []
    },
    {
      "cell_type": "markdown",
      "source": [
        "\n",
        "#**ComboFinder**"
      ],
      "metadata": {
        "id": "84PGdhf4TowY"
      }
    },
    {
      "cell_type": "markdown",
      "source": [
        "###Problem Statement:\n",
        "####Find all the list of products whose sum-of-price is between 290 and 310.\n",
        "####ProductList = {p1:10, p2:15, p3:20, p4:25, p5:30, p6:35, p7:50}"
      ],
      "metadata": {
        "id": "LCzfH6RGTyFt"
      }
    },
    {
      "cell_type": "code",
      "source": [
        "import random as r\n",
        "ProductList = {'p1':10, 'p2':15, 'p3':20, 'p4':25, 'p5':30, 'p6':35, 'p7':50}\n",
        "n=len(ProductList)\n",
        "prod=list(ProductList.items())\n",
        "rl=[]\n",
        "for i in range(1000):\n",
        "  ns=r.randint(7,10)\n",
        "  sel=r.choices(prod,k=ns)\n",
        "  prices=[p for _,p in sel]\n",
        "  if sum(prices)>=290 and sum(prices)<=310:\n",
        "    finalsets=[p for p,_ in sel]\n",
        "    rl.append(finalsets)\n",
        "print(rl)\n"
      ],
      "metadata": {
        "colab": {
          "base_uri": "https://localhost:8080/"
        },
        "id": "V__GxQlgT7I6",
        "outputId": "18778cee-13ed-4f90-83d4-472389f0d3ef"
      },
      "execution_count": 3,
      "outputs": [
        {
          "output_type": "stream",
          "name": "stdout",
          "text": [
            "[['p2', 'p7', 'p7', 'p4', 'p5', 'p4', 'p4', 'p5', 'p2', 'p4'], ['p2', 'p1', 'p4', 'p7', 'p7', 'p1', 'p5', 'p7', 'p4', 'p6'], ['p7', 'p5', 'p6', 'p2', 'p3', 'p7', 'p2', 'p2', 'p5', 'p7'], ['p3', 'p2', 'p5', 'p6', 'p7', 'p3', 'p7', 'p6', 'p6', 'p3'], ['p4', 'p2', 'p5', 'p4', 'p6', 'p6', 'p5', 'p7', 'p7'], ['p6', 'p6', 'p6', 'p7', 'p5', 'p6', 'p2', 'p1', 'p7'], ['p7', 'p6', 'p4', 'p6', 'p5', 'p7', 'p7', 'p3'], ['p6', 'p7', 'p4', 'p7', 'p3', 'p6', 'p4', 'p5', 'p6'], ['p3', 'p7', 'p6', 'p5', 'p2', 'p5', 'p7', 'p2', 'p1', 'p7'], ['p1', 'p7', 'p2', 'p2', 'p7', 'p1', 'p4', 'p7', 'p2', 'p7'], ['p2', 'p3', 'p1', 'p1', 'p6', 'p7', 'p7', 'p5', 'p7', 'p5'], ['p5', 'p6', 'p4', 'p7', 'p2', 'p3', 'p4', 'p4', 'p7', 'p6'], ['p1', 'p2', 'p2', 'p5', 'p7', 'p6', 'p7', 'p5', 'p6', 'p3'], ['p5', 'p6', 'p5', 'p3', 'p2', 'p5', 'p3', 'p7', 'p6', 'p4'], ['p7', 'p7', 'p5', 'p2', 'p5', 'p4', 'p6', 'p3', 'p6'], ['p7', 'p6', 'p5', 'p7', 'p2', 'p3', 'p4', 'p7', 'p4'], ['p7', 'p7', 'p7', 'p4', 'p7', 'p1', 'p5', 'p1', 'p3'], ['p7', 'p7', 'p6', 'p4', 'p5', 'p3', 'p6', 'p4', 'p4'], ['p4', 'p3', 'p5', 'p4', 'p5', 'p3', 'p7', 'p7', 'p5', 'p5'], ['p5', 'p6', 'p7', 'p7', 'p7', 'p7', 'p3', 'p4'], ['p7', 'p2', 'p6', 'p6', 'p5', 'p5', 'p6', 'p3', 'p2', 'p6'], ['p5', 'p1', 'p2', 'p6', 'p7', 'p7', 'p7', 'p4', 'p2', 'p3'], ['p5', 'p6', 'p7', 'p5', 'p1', 'p6', 'p7', 'p3', 'p6', 'p2'], ['p1', 'p7', 'p6', 'p7', 'p6', 'p2', 'p7', 'p2', 'p1', 'p3'], ['p1', 'p5', 'p5', 'p7', 'p3', 'p6', 'p7', 'p7', 'p1', 'p3'], ['p6', 'p5', 'p1', 'p3', 'p7', 'p5', 'p7', 'p6', 'p4', 'p3'], ['p7', 'p7', 'p1', 'p5', 'p7', 'p1', 'p4', 'p6', 'p6', 'p2'], ['p7', 'p6', 'p1', 'p5', 'p7', 'p6', 'p7', 'p5'], ['p6', 'p1', 'p6', 'p7', 'p5', 'p7', 'p5', 'p7', 'p3'], ['p7', 'p5', 'p6', 'p5', 'p2', 'p5', 'p6', 'p4', 'p7', 'p1'], ['p4', 'p1', 'p3', 'p3', 'p7', 'p7', 'p4', 'p2', 'p7', 'p6'], ['p5', 'p7', 'p5', 'p2', 'p2', 'p6', 'p7', 'p7', 'p2', 'p1'], ['p3', 'p6', 'p3', 'p6', 'p6', 'p2', 'p5', 'p5', 'p6', 'p6'], ['p5', 'p1', 'p7', 'p3', 'p5', 'p4', 'p7', 'p4', 'p5', 'p5'], ['p7', 'p4', 'p2', 'p7', 'p3', 'p2', 'p3', 'p6', 'p6', 'p4'], ['p1', 'p7', 'p7', 'p5', 'p7', 'p3', 'p7', 'p5'], ['p4', 'p4', 'p7', 'p5', 'p2', 'p6', 'p3', 'p6', 'p6', 'p3'], ['p3', 'p3', 'p7', 'p6', 'p7', 'p6', 'p5', 'p7', 'p1'], ['p3', 'p7', 'p7', 'p4', 'p5', 'p7', 'p6', 'p6'], ['p2', 'p5', 'p4', 'p6', 'p7', 'p5', 'p5', 'p6', 'p6', 'p1'], ['p4', 'p6', 'p1', 'p7', 'p6', 'p3', 'p6', 'p2', 'p6', 'p7'], ['p7', 'p1', 'p4', 'p7', 'p7', 'p4', 'p4', 'p7', 'p1', 'p2'], ['p6', 'p1', 'p3', 'p7', 'p2', 'p6', 'p6', 'p5', 'p7', 'p1'], ['p6', 'p4', 'p6', 'p7', 'p1', 'p6', 'p2', 'p4', 'p7', 'p3'], ['p7', 'p4', 'p3', 'p7', 'p2', 'p3', 'p2', 'p5', 'p5', 'p7'], ['p5', 'p2', 'p2', 'p7', 'p6', 'p1', 'p5', 'p4', 'p5', 'p7'], ['p7', 'p7', 'p3', 'p5', 'p7', 'p3', 'p7', 'p4'], ['p5', 'p1', 'p7', 'p5', 'p6', 'p2', 'p6', 'p5', 'p7', 'p2'], ['p6', 'p5', 'p3', 'p1', 'p3', 'p2', 'p7', 'p7', 'p4', 'p7'], ['p5', 'p7', 'p7', 'p7', 'p4', 'p4', 'p4', 'p5', 'p3'], ['p3', 'p7', 'p6', 'p3', 'p4', 'p5', 'p7', 'p3', 'p6', 'p1'], ['p7', 'p4', 'p6', 'p7', 'p1', 'p7', 'p5', 'p3', 'p3'], ['p1', 'p6', 'p5', 'p3', 'p5', 'p4', 'p4', 'p6', 'p6', 'p7'], ['p4', 'p4', 'p5', 'p1', 'p5', 'p2', 'p7', 'p7', 'p7', 'p1'], ['p4', 'p7', 'p3', 'p7', 'p6', 'p6', 'p6', 'p4', 'p2', 'p1'], ['p7', 'p6', 'p4', 'p4', 'p3', 'p4', 'p4', 'p5', 'p3', 'p7']]\n"
          ]
        }
      ]
    }
  ]
}